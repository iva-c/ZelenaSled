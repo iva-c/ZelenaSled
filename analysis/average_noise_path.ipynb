{
 "cells": [
  {
   "cell_type": "markdown",
   "metadata": {},
   "source": [
    "## Compute Average Noise Level per Path Based on Noise Data from Intersected Polygons\n",
    "\n",
    "This script calculates the average **noise level** for each path based on the **noise polygons** it intersects. Each noise polygon contains noise level data in dbs, which was measured in Ljubljana.\n",
    "\n",
    "### Features\n",
    "- **Path-Based Noise Analysis**: The script evaluates the noise levels along different paths by averaging the noise values of the polygons they pass through.\n",
    "- **Polygon Intersection**: Uses **shapely** to efficiently compute intersections between paths and noise polygons to calculate noise levels.\n",
    "- **Flexible Input Format**: Takes in two GeoJSON files — one with noise polygon data (containing noise levels) and another with a set of paths represented by their geographic coordinates and lengths.\n",
    "\n",
    "### Inputs\n",
    "- **Noise Data (GeoJSON)**:\n",
    "  - Contains geographic polygons with noise levels, representing areas of varying noise intensity, downloaded from https://data.noise-planet.org/noisecapture/.\n",
    "- **Paths Data (GeoJSON)**:\n",
    "  - A set of 25 paths with defined geometric lines and associated attributes like path length in meters to be assessed and compared based on noise.\n",
    "\n",
    "### Output\n",
    "- For each path, the script returns the **average noise level** based on the noise values of all polygons it intersects, providing insights into noise exposure along the route.\n",
    "\n",
    "### Data Source\n",
    "- **Environmental Noise Data**  \n",
    "  - **Source**: [Data nise-planet] (https://data.noise-planet.org/noisecapture/)\n",
    "  - **Format**: Noise data is pre-processed into GeoJSON format, with each polygon representing a specific noise zone and its corresponding level.\n"
   ]
  },
  {
   "cell_type": "code",
   "execution_count": null,
   "metadata": {},
   "outputs": [
    {
     "name": "stderr",
     "output_type": "stream",
     "text": [
      "Skipping field tags: unsupported OGR type: 5\n",
      "Skipping field origin_coords: unsupported OGR type: 3\n",
      "Skipping field destination_coords: unsupported OGR type: 3\n"
     ]
    },
    {
     "name": "stdout",
     "output_type": "stream",
     "text": [
      "  id  path_num    length_m                                        coordinates   \n",
      "1  1         2  794.769771  [ [ 14.5054488, 46.051100699999999 ], [ 14.505...  \\\n",
      "2  2         3  795.679623  [ [ 14.5054488, 46.051100699999999 ], [ 14.505...   \n",
      "3  3         4  795.741988  [ [ 14.5054488, 46.051100699999999 ], [ 14.505...   \n",
      "\n",
      "                                            geometry  \n",
      "1  LINESTRING (14.50545 46.0511, 14.50578 46.0513...  \n",
      "2  LINESTRING (14.50545 46.0511, 14.50578 46.0513...  \n",
      "3  LINESTRING (14.50545 46.0511, 14.50578 46.0513...  \n"
     ]
    }
   ],
   "source": [
    "import geopandas as gpd\n",
    "from shapely.geometry import Point, Polygon, LineString\n",
    "\n",
    "# Load your geojson data (noise data and path data)\n",
    "# Path to your GeoJSON files\n",
    "noise_file_path = '/Slovenia_Osrednjeslovenska_Ljubljana.tracks.geojson'\n",
    "path_file_path = '/paths_test_json.json'\n",
    "\n",
    "# Read the GeoJSON files\n",
    "noise_gdf = gpd.read_file(noise_file_path)\n",
    "path_gdf = gpd.read_file(path_file_path)\n",
    "\n",
    "# Function to check if there is a noise data point for the path and compute the average noise\n",
    "def check_noise_data_for_path(path, noise_gdf, path_length):\n",
    "    total_noise = 0\n",
    "    count = 0\n",
    "    \n",
    "    # Iterate over the noise polygons and check for intersection with the path\n",
    "    for idx, noise_polygon in enumerate(noise_gdf['geometry']):\n",
    "        if path.intersects(noise_polygon):\n",
    "            total_noise += noise_gdf.iloc[idx]['noise_level']\n",
    "            count += 1\n",
    "    \n",
    "    # Check if the average distance per noise point is smaller than 500 meters\n",
    "    if count > 0 and path_length / count < 500:\n",
    "        # Compute the average noise level if the condition is met\n",
    "        return total_noise / count\n",
    "    else:\n",
    "        # If no noise points or the average distance per point is <= 500 meters, return None\n",
    "        return None\n",
    "\n",
    "# Compute the average noise level for all paths\n",
    "path_noise_data = []\n",
    "\n",
    "for idx, path in path_gdf.iterrows():\n",
    "    path_length = path['length_m']  # Get the path length from the JSON\n",
    "    # Check if the path has noise data points at intervals greater than 500 meters        \n",
    "    average_noise = check_noise_data_for_path(path['geometry'], noise_gdf, path_length)\n",
    "    if average_noise is not None:  # Only add paths with valid average noise levels\n",
    "        path_noise_data.append((idx, average_noise))  # Save index and noise level\n",
    "\n",
    "# Sort paths by average noise level (quietest first)\n",
    "path_noise_data_sorted = sorted(path_noise_data, key=lambda x: x[1])  # Sort by average noise level\n",
    "\n",
    "# Get the indexes of the quietest 3 paths\n",
    "quietest_3_indexes = [item[0] for item in path_noise_data_sorted[:3]]\n",
    "\n",
    "# Subselect the quietest 3 paths using their indexes\n",
    "quietest_3_paths_gdf = path_gdf.loc[quietest_3_indexes]\n",
    "\n",
    "# Print the quietest 3 paths GeoDataFrame\n",
    "print(quietest_3_paths_gdf)\n",
    "\n"
   ]
  },
  {
   "cell_type": "code",
   "execution_count": 2,
   "metadata": {},
   "outputs": [
    {
     "data": {
      "text/plain": [
       "[73.83930733019498,\n",
       " 73.83930733019498,\n",
       " 73.83930733019498,\n",
       " 73.83930733019498,\n",
       " 73.83930733019498,\n",
       " 73.83930733019498,\n",
       " 73.83930733019498,\n",
       " 73.83930733019498,\n",
       " 73.83930733019498,\n",
       " 73.91092517006796]"
      ]
     },
     "execution_count": 2,
     "metadata": {},
     "output_type": "execute_result"
    }
   ],
   "source": [
    "average_noise_data_sorted = [item[1] for item in path_noise_data_sorted]\n",
    "average_noise_data_sorted "
   ]
  }
 ],
 "metadata": {
  "kernelspec": {
   "display_name": "Python 3",
   "language": "python",
   "name": "python3"
  },
  "language_info": {
   "codemirror_mode": {
    "name": "ipython",
    "version": 3
   },
   "file_extension": ".py",
   "mimetype": "text/x-python",
   "name": "python",
   "nbconvert_exporter": "python",
   "pygments_lexer": "ipython3",
   "version": "3.10.12"
  }
 },
 "nbformat": 4,
 "nbformat_minor": 2
}
